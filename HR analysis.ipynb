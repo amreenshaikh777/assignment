{
 "cells": [
  {
   "cell_type": "code",
   "execution_count": 4,
   "id": "a4877937",
   "metadata": {},
   "outputs": [],
   "source": [
    "a=pd.read_csv(r\"C:\\Users\\HP\\Downloads\\ethnic_diversity_data.csv\")"
   ]
  },
  {
   "cell_type": "code",
   "execution_count": 2,
   "id": "44528b27",
   "metadata": {},
   "outputs": [],
   "source": [
    "import pandas as pd"
   ]
  },
  {
   "cell_type": "code",
   "execution_count": 5,
   "id": "c47b8a38",
   "metadata": {},
   "outputs": [
    {
     "data": {
      "text/html": [
       "<div>\n",
       "<style scoped>\n",
       "    .dataframe tbody tr th:only-of-type {\n",
       "        vertical-align: middle;\n",
       "    }\n",
       "\n",
       "    .dataframe tbody tr th {\n",
       "        vertical-align: top;\n",
       "    }\n",
       "\n",
       "    .dataframe thead th {\n",
       "        text-align: right;\n",
       "    }\n",
       "</style>\n",
       "<table border=\"1\" class=\"dataframe\">\n",
       "  <thead>\n",
       "    <tr style=\"text-align: right;\">\n",
       "      <th></th>\n",
       "      <th>Employee_Name</th>\n",
       "      <th>EmpID</th>\n",
       "      <th>Position</th>\n",
       "      <th>State</th>\n",
       "      <th>Zip</th>\n",
       "      <th>Sex</th>\n",
       "      <th>MaritalDesc</th>\n",
       "      <th>CitizenDesc</th>\n",
       "      <th>EmploymentStatus</th>\n",
       "      <th>Department</th>\n",
       "      <th>Salaries</th>\n",
       "      <th>age</th>\n",
       "      <th>Race</th>\n",
       "    </tr>\n",
       "  </thead>\n",
       "  <tbody>\n",
       "    <tr>\n",
       "      <th>0</th>\n",
       "      <td>Brown, Mia</td>\n",
       "      <td>1103024456</td>\n",
       "      <td>Accountant I</td>\n",
       "      <td>MA</td>\n",
       "      <td>1450</td>\n",
       "      <td>F</td>\n",
       "      <td>Married</td>\n",
       "      <td>US Citizen</td>\n",
       "      <td>Active</td>\n",
       "      <td>Admin Offices</td>\n",
       "      <td>674.28</td>\n",
       "      <td>28</td>\n",
       "      <td>Black or African American</td>\n",
       "    </tr>\n",
       "    <tr>\n",
       "      <th>1</th>\n",
       "      <td>LaRotonda, William</td>\n",
       "      <td>1106026572</td>\n",
       "      <td>Accountant I</td>\n",
       "      <td>MA</td>\n",
       "      <td>1460</td>\n",
       "      <td>M</td>\n",
       "      <td>Divorced</td>\n",
       "      <td>US Citizen</td>\n",
       "      <td>Active</td>\n",
       "      <td>Admin Offices</td>\n",
       "      <td>674.28</td>\n",
       "      <td>50</td>\n",
       "      <td>Black or African American</td>\n",
       "    </tr>\n",
       "    <tr>\n",
       "      <th>2</th>\n",
       "      <td>Steans, Tyrone</td>\n",
       "      <td>1302053333</td>\n",
       "      <td>Accountant I</td>\n",
       "      <td>MA</td>\n",
       "      <td>2703</td>\n",
       "      <td>M</td>\n",
       "      <td>Single</td>\n",
       "      <td>US Citizen</td>\n",
       "      <td>Active</td>\n",
       "      <td>Admin Offices</td>\n",
       "      <td>674.28</td>\n",
       "      <td>43</td>\n",
       "      <td>White</td>\n",
       "    </tr>\n",
       "    <tr>\n",
       "      <th>3</th>\n",
       "      <td>Howard, Estelle</td>\n",
       "      <td>1211050782</td>\n",
       "      <td>Administrative Assistant</td>\n",
       "      <td>MA</td>\n",
       "      <td>2170</td>\n",
       "      <td>F</td>\n",
       "      <td>Married</td>\n",
       "      <td>US Citizen</td>\n",
       "      <td>Terminated for Cause</td>\n",
       "      <td>Admin Offices</td>\n",
       "      <td>47822.00</td>\n",
       "      <td>44</td>\n",
       "      <td>White</td>\n",
       "    </tr>\n",
       "    <tr>\n",
       "      <th>4</th>\n",
       "      <td>Singh, Nan</td>\n",
       "      <td>1307059817</td>\n",
       "      <td>Administrative Assistant</td>\n",
       "      <td>MA</td>\n",
       "      <td>2330</td>\n",
       "      <td>F</td>\n",
       "      <td>Single</td>\n",
       "      <td>US Citizen</td>\n",
       "      <td>Active</td>\n",
       "      <td>Admin Offices</td>\n",
       "      <td>61089.35</td>\n",
       "      <td>33</td>\n",
       "      <td>White</td>\n",
       "    </tr>\n",
       "    <tr>\n",
       "      <th>...</th>\n",
       "      <td>...</td>\n",
       "      <td>...</td>\n",
       "      <td>...</td>\n",
       "      <td>...</td>\n",
       "      <td>...</td>\n",
       "      <td>...</td>\n",
       "      <td>...</td>\n",
       "      <td>...</td>\n",
       "      <td>...</td>\n",
       "      <td>...</td>\n",
       "      <td>...</td>\n",
       "      <td>...</td>\n",
       "      <td>...</td>\n",
       "    </tr>\n",
       "    <tr>\n",
       "      <th>305</th>\n",
       "      <td>Daniele, Ann</td>\n",
       "      <td>1411071312</td>\n",
       "      <td>Sr. Network Engineer</td>\n",
       "      <td>CT</td>\n",
       "      <td>6033</td>\n",
       "      <td>F</td>\n",
       "      <td>Married</td>\n",
       "      <td>US Citizen</td>\n",
       "      <td>Leave of Absence</td>\n",
       "      <td>IT/IS</td>\n",
       "      <td>37619.01</td>\n",
       "      <td>38</td>\n",
       "      <td>White</td>\n",
       "    </tr>\n",
       "    <tr>\n",
       "      <th>306</th>\n",
       "      <td>Lajiri,  Jyoti</td>\n",
       "      <td>1108028108</td>\n",
       "      <td>Sr. Network Engineer</td>\n",
       "      <td>MA</td>\n",
       "      <td>2169</td>\n",
       "      <td>M</td>\n",
       "      <td>Married</td>\n",
       "      <td>US Citizen</td>\n",
       "      <td>Leave of Absence</td>\n",
       "      <td>IT/IS</td>\n",
       "      <td>27603.00</td>\n",
       "      <td>34</td>\n",
       "      <td>White</td>\n",
       "    </tr>\n",
       "    <tr>\n",
       "      <th>307</th>\n",
       "      <td>Semizoglou, Jeremiah</td>\n",
       "      <td>904013591</td>\n",
       "      <td>Sr. Network Engineer</td>\n",
       "      <td>MA</td>\n",
       "      <td>1545</td>\n",
       "      <td>M</td>\n",
       "      <td>Married</td>\n",
       "      <td>US Citizen</td>\n",
       "      <td>Future Start</td>\n",
       "      <td>IT/IS</td>\n",
       "      <td>27587.46</td>\n",
       "      <td>24</td>\n",
       "      <td>Asian</td>\n",
       "    </tr>\n",
       "    <tr>\n",
       "      <th>308</th>\n",
       "      <td>South, Joe</td>\n",
       "      <td>1308060959</td>\n",
       "      <td>Sr. Network Engineer</td>\n",
       "      <td>CT</td>\n",
       "      <td>6278</td>\n",
       "      <td>M</td>\n",
       "      <td>Single</td>\n",
       "      <td>US Citizen</td>\n",
       "      <td>Active</td>\n",
       "      <td>IT/IS</td>\n",
       "      <td>12126.53</td>\n",
       "      <td>31</td>\n",
       "      <td>White</td>\n",
       "    </tr>\n",
       "    <tr>\n",
       "      <th>309</th>\n",
       "      <td>Warfield, Sarah</td>\n",
       "      <td>1301052347</td>\n",
       "      <td>Sr. Network Engineer</td>\n",
       "      <td>MA</td>\n",
       "      <td>2453</td>\n",
       "      <td>F</td>\n",
       "      <td>Widowed</td>\n",
       "      <td>US Citizen</td>\n",
       "      <td>Active</td>\n",
       "      <td>IT/IS</td>\n",
       "      <td>37257.00</td>\n",
       "      <td>46</td>\n",
       "      <td>Asian</td>\n",
       "    </tr>\n",
       "  </tbody>\n",
       "</table>\n",
       "<p>310 rows × 13 columns</p>\n",
       "</div>"
      ],
      "text/plain": [
       "              Employee_Name       EmpID                  Position State   Zip  \\\n",
       "0                Brown, Mia  1103024456              Accountant I    MA  1450   \n",
       "1      LaRotonda, William    1106026572              Accountant I    MA  1460   \n",
       "2          Steans, Tyrone    1302053333              Accountant I    MA  2703   \n",
       "3           Howard, Estelle  1211050782  Administrative Assistant    MA  2170   \n",
       "4               Singh, Nan   1307059817  Administrative Assistant    MA  2330   \n",
       "..                      ...         ...                       ...   ...   ...   \n",
       "305          Daniele, Ann    1411071312      Sr. Network Engineer    CT  6033   \n",
       "306          Lajiri,  Jyoti  1108028108      Sr. Network Engineer    MA  2169   \n",
       "307  Semizoglou, Jeremiah     904013591      Sr. Network Engineer    MA  1545   \n",
       "308              South, Joe  1308060959      Sr. Network Engineer    CT  6278   \n",
       "309         Warfield, Sarah  1301052347      Sr. Network Engineer    MA  2453   \n",
       "\n",
       "    Sex MaritalDesc CitizenDesc      EmploymentStatus     Department  \\\n",
       "0     F     Married  US Citizen                Active  Admin Offices   \n",
       "1    M     Divorced  US Citizen                Active  Admin Offices   \n",
       "2    M       Single  US Citizen                Active  Admin Offices   \n",
       "3     F     Married  US Citizen  Terminated for Cause  Admin Offices   \n",
       "4     F      Single  US Citizen                Active  Admin Offices   \n",
       "..   ..         ...         ...                   ...            ...   \n",
       "305   F     Married  US Citizen      Leave of Absence          IT/IS   \n",
       "306  M      Married  US Citizen      Leave of Absence          IT/IS   \n",
       "307  M      Married  US Citizen          Future Start          IT/IS   \n",
       "308  M       Single  US Citizen                Active          IT/IS   \n",
       "309   F     Widowed  US Citizen                Active          IT/IS   \n",
       "\n",
       "     Salaries  age                       Race  \n",
       "0      674.28   28  Black or African American  \n",
       "1      674.28   50  Black or African American  \n",
       "2      674.28   43                      White  \n",
       "3    47822.00   44                      White  \n",
       "4    61089.35   33                      White  \n",
       "..        ...  ...                        ...  \n",
       "305  37619.01   38                      White  \n",
       "306  27603.00   34                      White  \n",
       "307  27587.46   24                      Asian  \n",
       "308  12126.53   31                      White  \n",
       "309  37257.00   46                      Asian  \n",
       "\n",
       "[310 rows x 13 columns]"
      ]
     },
     "execution_count": 5,
     "metadata": {},
     "output_type": "execute_result"
    }
   ],
   "source": [
    "a"
   ]
  },
  {
   "cell_type": "code",
   "execution_count": 6,
   "id": "0d022f74",
   "metadata": {},
   "outputs": [],
   "source": [
    "#what is the minimum salary in dataset"
   ]
  },
  {
   "cell_type": "code",
   "execution_count": 22,
   "id": "2145c099",
   "metadata": {},
   "outputs": [
    {
     "data": {
      "text/plain": [
       "0.0"
      ]
     },
     "execution_count": 22,
     "metadata": {},
     "output_type": "execute_result"
    }
   ],
   "source": [
    "a['Salaries'].min()"
   ]
  },
  {
   "cell_type": "code",
   "execution_count": 8,
   "id": "ed0a7260",
   "metadata": {},
   "outputs": [],
   "source": [
    "#1how many employers are their without marriage i.e. single"
   ]
  },
  {
   "cell_type": "code",
   "execution_count": 80,
   "id": "211ed4ce",
   "metadata": {},
   "outputs": [
    {
     "data": {
      "text/plain": [
       "310"
      ]
     },
     "execution_count": 80,
     "metadata": {},
     "output_type": "execute_result"
    }
   ],
   "source": [
    "len(a['MaritalDesc']=='Single')"
   ]
  },
  {
   "cell_type": "code",
   "execution_count": 11,
   "id": "80c48f90",
   "metadata": {},
   "outputs": [],
   "source": [
    "#2what is the average salary of employee"
   ]
  },
  {
   "cell_type": "code",
   "execution_count": 12,
   "id": "a2c2c17c",
   "metadata": {},
   "outputs": [
    {
     "data": {
      "text/plain": [
       "36670.10274193549"
      ]
     },
     "execution_count": 12,
     "metadata": {},
     "output_type": "execute_result"
    }
   ],
   "source": [
    "a['Salaries'].mean()"
   ]
  },
  {
   "cell_type": "code",
   "execution_count": 13,
   "id": "c2d49893",
   "metadata": {},
   "outputs": [],
   "source": [
    "#3what are the different positions in dataset"
   ]
  },
  {
   "cell_type": "code",
   "execution_count": 29,
   "id": "56df6daa",
   "metadata": {},
   "outputs": [
    {
     "data": {
      "text/plain": [
       "array(['Accountant I', 'Administrative Assistant', 'Area Sales Manager',\n",
       "       'BI Developer', 'BI Director', 'CIO', 'Data Architect',\n",
       "       'Database Administrator', 'Data Analyst', 'Data Analyst ',\n",
       "       'Director of Operations', 'Director of Sales', 'IT Director',\n",
       "       'IT Manager - DB', 'IT Manager - Infra', 'IT Manager - Support',\n",
       "       'IT Support', 'Network Engineer', 'President & CEO',\n",
       "       'Production Manager', 'Production Technician I',\n",
       "       'Production Technician II', 'Sales Manager', 'Senior BI Developer',\n",
       "       'Shared Services Manager', 'Software Engineer',\n",
       "       'Software Engineering Manager', 'Sr. Accountant', 'Sr. DBA',\n",
       "       'Enterprise Architect', 'Principal Data Architect',\n",
       "       'Sr. Network Engineer'], dtype=object)"
      ]
     },
     "execution_count": 29,
     "metadata": {},
     "output_type": "execute_result"
    }
   ],
   "source": [
    "a['Position'].unique()"
   ]
  },
  {
   "cell_type": "code",
   "execution_count": 16,
   "id": "f1b82cb3",
   "metadata": {},
   "outputs": [],
   "source": [
    "#4Get all the details of employee who is getting highest salary?"
   ]
  },
  {
   "cell_type": "code",
   "execution_count": 34,
   "id": "ff9e747a",
   "metadata": {},
   "outputs": [
    {
     "data": {
      "text/plain": [
       "108304.0"
      ]
     },
     "execution_count": 34,
     "metadata": {},
     "output_type": "execute_result"
    }
   ],
   "source": [
    "b=a['Salaries'].max()"
   ]
  },
  {
   "cell_type": "code",
   "execution_count": null,
   "id": "4bed0726",
   "metadata": {},
   "outputs": [],
   "source": []
  },
  {
   "cell_type": "code",
   "execution_count": 17,
   "id": "6fd222da",
   "metadata": {},
   "outputs": [],
   "source": [
    "#5Which 'Department' has more employees?"
   ]
  },
  {
   "cell_type": "code",
   "execution_count": 39,
   "id": "afc48259",
   "metadata": {},
   "outputs": [
    {
     "data": {
      "text/plain": [
       "Production              208\n",
       "IT/IS                    50\n",
       "Sales                    31\n",
       "Admin Offices            10\n",
       "Software Engineering     10\n",
       "Executive Office          1\n",
       "Name: Department, dtype: int64"
      ]
     },
     "execution_count": 39,
     "metadata": {},
     "output_type": "execute_result"
    }
   ],
   "source": [
    "a['Department'].value_counts()"
   ]
  },
  {
   "cell_type": "code",
   "execution_count": 18,
   "id": "5f39f26c",
   "metadata": {},
   "outputs": [],
   "source": [
    "#6How many 'female' employees are working in the company?"
   ]
  },
  {
   "cell_type": "code",
   "execution_count": 36,
   "id": "5e8b622b",
   "metadata": {},
   "outputs": [
    {
     "data": {
      "text/plain": [
       "177"
      ]
     },
     "execution_count": 36,
     "metadata": {},
     "output_type": "execute_result"
    }
   ],
   "source": [
    "len(a[a['Sex']=='F'])"
   ]
  },
  {
   "cell_type": "code",
   "execution_count": 19,
   "id": "30ea0d5f",
   "metadata": {},
   "outputs": [],
   "source": [
    "#7Who are the 'emplDs' 'Non-Citizen' of US (.'Citizen Desc' column)"
   ]
  },
  {
   "cell_type": "code",
   "execution_count": 49,
   "id": "64dd7dbb",
   "metadata": {},
   "outputs": [
    {
     "data": {
      "text/html": [
       "<div>\n",
       "<style scoped>\n",
       "    .dataframe tbody tr th:only-of-type {\n",
       "        vertical-align: middle;\n",
       "    }\n",
       "\n",
       "    .dataframe tbody tr th {\n",
       "        vertical-align: top;\n",
       "    }\n",
       "\n",
       "    .dataframe thead th {\n",
       "        text-align: right;\n",
       "    }\n",
       "</style>\n",
       "<table border=\"1\" class=\"dataframe\">\n",
       "  <thead>\n",
       "    <tr style=\"text-align: right;\">\n",
       "      <th></th>\n",
       "      <th>EmpID</th>\n",
       "    </tr>\n",
       "  </thead>\n",
       "  <tbody>\n",
       "    <tr>\n",
       "      <th>165</th>\n",
       "      <td>1012023295</td>\n",
       "    </tr>\n",
       "    <tr>\n",
       "      <th>222</th>\n",
       "      <td>1405067501</td>\n",
       "    </tr>\n",
       "    <tr>\n",
       "      <th>271</th>\n",
       "      <td>1207046956</td>\n",
       "    </tr>\n",
       "    <tr>\n",
       "      <th>297</th>\n",
       "      <td>1102024057</td>\n",
       "    </tr>\n",
       "  </tbody>\n",
       "</table>\n",
       "</div>"
      ],
      "text/plain": [
       "          EmpID\n",
       "165  1012023295\n",
       "222  1405067501\n",
       "271  1207046956\n",
       "297  1102024057"
      ]
     },
     "execution_count": 49,
     "metadata": {},
     "output_type": "execute_result"
    }
   ],
   "source": [
    "a.loc[(a['CitizenDesc']=='Non-Citizen'),['EmpID']]"
   ]
  },
  {
   "cell_type": "code",
   "execution_count": null,
   "id": "f874b997",
   "metadata": {},
   "outputs": [],
   "source": []
  },
  {
   "cell_type": "code",
   "execution_count": 20,
   "id": "858e8fa5",
   "metadata": {},
   "outputs": [],
   "source": [
    "#8What is the average salary of employees who are Asian (refer: 'Race' column)"
   ]
  },
  {
   "cell_type": "code",
   "execution_count": 58,
   "id": "48bbcd0e",
   "metadata": {},
   "outputs": [],
   "source": [
    "b=(a[a['Race']=='Asian'])"
   ]
  },
  {
   "cell_type": "code",
   "execution_count": 59,
   "id": "28569c69",
   "metadata": {},
   "outputs": [
    {
     "data": {
      "text/plain": [
       "40662.373235294115"
      ]
     },
     "execution_count": 59,
     "metadata": {},
     "output_type": "execute_result"
    }
   ],
   "source": [
    "b['Salaries'].mean()"
   ]
  },
  {
   "cell_type": "code",
   "execution_count": 74,
   "id": "d835a77b",
   "metadata": {},
   "outputs": [
    {
     "data": {
      "text/plain": [
       "40662.373235294115"
      ]
     },
     "execution_count": 74,
     "metadata": {},
     "output_type": "execute_result"
    }
   ],
   "source": [
    "a[a['Race']=='Asian']['Salaries'].mean()"
   ]
  },
  {
   "cell_type": "code",
   "execution_count": 21,
   "id": "87640921",
   "metadata": {},
   "outputs": [],
   "source": [
    "#9Show all the employs who is not currently working in the company (check\n",
    "#'Employmentstatus` column)?"
   ]
  },
  {
   "cell_type": "code",
   "execution_count": 78,
   "id": "90286568",
   "metadata": {},
   "outputs": [
    {
     "data": {
      "text/html": [
       "<div>\n",
       "<style scoped>\n",
       "    .dataframe tbody tr th:only-of-type {\n",
       "        vertical-align: middle;\n",
       "    }\n",
       "\n",
       "    .dataframe tbody tr th {\n",
       "        vertical-align: top;\n",
       "    }\n",
       "\n",
       "    .dataframe thead th {\n",
       "        text-align: right;\n",
       "    }\n",
       "</style>\n",
       "<table border=\"1\" class=\"dataframe\">\n",
       "  <thead>\n",
       "    <tr style=\"text-align: right;\">\n",
       "      <th></th>\n",
       "      <th>Employee_Name</th>\n",
       "    </tr>\n",
       "  </thead>\n",
       "  <tbody>\n",
       "    <tr>\n",
       "      <th>3</th>\n",
       "      <td>Howard, Estelle</td>\n",
       "    </tr>\n",
       "    <tr>\n",
       "      <th>5</th>\n",
       "      <td>Smith, Leigh Ann</td>\n",
       "    </tr>\n",
       "    <tr>\n",
       "      <th>6</th>\n",
       "      <td>Bunbury, Jessica</td>\n",
       "    </tr>\n",
       "    <tr>\n",
       "      <th>11</th>\n",
       "      <td>Gill, Whitney</td>\n",
       "    </tr>\n",
       "    <tr>\n",
       "      <th>13</th>\n",
       "      <td>Guilianno, Mike</td>\n",
       "    </tr>\n",
       "    <tr>\n",
       "      <th>...</th>\n",
       "      <td>...</td>\n",
       "    </tr>\n",
       "    <tr>\n",
       "      <th>303</th>\n",
       "      <td>Favis, Donald</td>\n",
       "    </tr>\n",
       "    <tr>\n",
       "      <th>304</th>\n",
       "      <td>Roehrich, Bianca</td>\n",
       "    </tr>\n",
       "    <tr>\n",
       "      <th>305</th>\n",
       "      <td>Daniele, Ann</td>\n",
       "    </tr>\n",
       "    <tr>\n",
       "      <th>306</th>\n",
       "      <td>Lajiri,  Jyoti</td>\n",
       "    </tr>\n",
       "    <tr>\n",
       "      <th>307</th>\n",
       "      <td>Semizoglou, Jeremiah</td>\n",
       "    </tr>\n",
       "  </tbody>\n",
       "</table>\n",
       "<p>128 rows × 1 columns</p>\n",
       "</div>"
      ],
      "text/plain": [
       "              Employee_Name\n",
       "3           Howard, Estelle\n",
       "5          Smith, Leigh Ann\n",
       "6          Bunbury, Jessica\n",
       "11          Gill, Whitney  \n",
       "13          Guilianno, Mike\n",
       "..                      ...\n",
       "303         Favis, Donald  \n",
       "304        Roehrich, Bianca\n",
       "305          Daniele, Ann  \n",
       "306          Lajiri,  Jyoti\n",
       "307  Semizoglou, Jeremiah  \n",
       "\n",
       "[128 rows x 1 columns]"
      ]
     },
     "execution_count": 78,
     "metadata": {},
     "output_type": "execute_result"
    }
   ],
   "source": [
    "a.loc[(a['EmploymentStatus']!='Active'),['Employee_Name']]"
   ]
  },
  {
   "cell_type": "code",
   "execution_count": null,
   "id": "bf9459db",
   "metadata": {},
   "outputs": [],
   "source": []
  }
 ],
 "metadata": {
  "kernelspec": {
   "display_name": "Python 3 (ipykernel)",
   "language": "python",
   "name": "python3"
  },
  "language_info": {
   "codemirror_mode": {
    "name": "ipython",
    "version": 3
   },
   "file_extension": ".py",
   "mimetype": "text/x-python",
   "name": "python",
   "nbconvert_exporter": "python",
   "pygments_lexer": "ipython3",
   "version": "3.11.4"
  }
 },
 "nbformat": 4,
 "nbformat_minor": 5
}
