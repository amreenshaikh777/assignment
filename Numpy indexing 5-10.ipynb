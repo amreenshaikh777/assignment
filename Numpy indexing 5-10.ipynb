{
 "cells": [
  {
   "cell_type": "markdown",
   "id": "2a43dbf2",
   "metadata": {},
   "source": [
    "#### 1. Replace all odd numbers in the given array [1,3,4,5,6,7,11,21] with -1"
   ]
  },
  {
   "cell_type": "code",
   "execution_count": 2,
   "id": "57cc034c",
   "metadata": {},
   "outputs": [],
   "source": [
    "import numpy as np"
   ]
  },
  {
   "cell_type": "code",
   "execution_count": 6,
   "id": "64a1324f",
   "metadata": {},
   "outputs": [
    {
     "name": "stdout",
     "output_type": "stream",
     "text": [
      "[-1, -1, 4, -1, 6, -1, -1, -1]\n"
     ]
    }
   ],
   "source": [
    "a=np.array([1,3,4,5,6,7,11,21])\n",
    "b=[]\n",
    "for i in a:\n",
    "    if i%2 != 0:\n",
    "        b.append(-1)\n",
    "    else:\n",
    "        b.append(i)\n",
    "print(b)    "
   ]
  },
  {
   "cell_type": "code",
   "execution_count": 12,
   "id": "5f7d1869",
   "metadata": {},
   "outputs": [
    {
     "name": "stdout",
     "output_type": "stream",
     "text": [
      "[10, -1, -1, 2]\n"
     ]
    }
   ],
   "source": [
    "x=np.array([10,27,50,2])\n",
    "y=[]\n",
    "for i in x:\n",
    "    if i >=25:\n",
    "           y.append(-1)\n",
    "    else:\n",
    "           y.append(i)\n",
    "print(y)           \n",
    "           \n",
    "           "
   ]
  },
  {
   "cell_type": "markdown",
   "id": "2ac6447d",
   "metadata": {},
   "source": [
    "* take full 1d array with element 9 in it,\n",
    "* a. access single element, \n",
    "* b. access multiple elements.\n",
    "* c. slice out a 1d array\n",
    "* d. on the previously sliced array apply the slicing again."
   ]
  },
  {
   "cell_type": "code",
   "execution_count": 7,
   "id": "c1705989",
   "metadata": {},
   "outputs": [],
   "source": [
    "array1D=np.array([1,2,3,4,5,6,7,8,9])"
   ]
  },
  {
   "cell_type": "code",
   "execution_count": 8,
   "id": "0af17eae",
   "metadata": {},
   "outputs": [],
   "source": [
    "#access single element"
   ]
  },
  {
   "cell_type": "code",
   "execution_count": 9,
   "id": "48231103",
   "metadata": {},
   "outputs": [
    {
     "data": {
      "text/plain": [
       "4"
      ]
     },
     "execution_count": 9,
     "metadata": {},
     "output_type": "execute_result"
    }
   ],
   "source": [
    "array1D[3]"
   ]
  },
  {
   "cell_type": "code",
   "execution_count": 10,
   "id": "9392e514",
   "metadata": {},
   "outputs": [
    {
     "data": {
      "text/plain": [
       "7"
      ]
     },
     "execution_count": 10,
     "metadata": {},
     "output_type": "execute_result"
    }
   ],
   "source": [
    "array1D[6]"
   ]
  },
  {
   "cell_type": "code",
   "execution_count": 11,
   "id": "9dc909b8",
   "metadata": {},
   "outputs": [],
   "source": [
    "# access multiple element"
   ]
  },
  {
   "cell_type": "code",
   "execution_count": 13,
   "id": "adda254f",
   "metadata": {},
   "outputs": [
    {
     "data": {
      "text/plain": [
       "array([2, 5])"
      ]
     },
     "execution_count": 13,
     "metadata": {},
     "output_type": "execute_result"
    }
   ],
   "source": [
    "array1D[[1,4]]"
   ]
  },
  {
   "cell_type": "code",
   "execution_count": 14,
   "id": "b77f2886",
   "metadata": {},
   "outputs": [
    {
     "data": {
      "text/plain": [
       "array([3, 6, 8])"
      ]
     },
     "execution_count": 14,
     "metadata": {},
     "output_type": "execute_result"
    }
   ],
   "source": [
    "array1D[[2,5,7]]"
   ]
  },
  {
   "cell_type": "code",
   "execution_count": 15,
   "id": "a6a10a56",
   "metadata": {},
   "outputs": [],
   "source": [
    "#slice out a 1D Array"
   ]
  },
  {
   "cell_type": "code",
   "execution_count": 16,
   "id": "6e449f14",
   "metadata": {},
   "outputs": [
    {
     "data": {
      "text/plain": [
       "array([2, 3, 4, 5, 6, 7, 8])"
      ]
     },
     "execution_count": 16,
     "metadata": {},
     "output_type": "execute_result"
    }
   ],
   "source": [
    "array1D[1:8]"
   ]
  },
  {
   "cell_type": "code",
   "execution_count": 17,
   "id": "6765ab13",
   "metadata": {},
   "outputs": [],
   "source": [
    "#on the previously sliced array apply the slicing again."
   ]
  },
  {
   "cell_type": "code",
   "execution_count": 18,
   "id": "d780f30f",
   "metadata": {},
   "outputs": [
    {
     "data": {
      "text/plain": [
       "array([5, 6, 7])"
      ]
     },
     "execution_count": 18,
     "metadata": {},
     "output_type": "execute_result"
    }
   ],
   "source": [
    "array1D[1:8][3:6]"
   ]
  },
  {
   "cell_type": "markdown",
   "id": "a26eb691",
   "metadata": {},
   "source": [
    "### take 2d diagonal matrix with diagonal elements (1,2,3,,4,5,6)\n",
    "\n",
    "* a. access single row\n",
    "* b. access multiple rows\n",
    "* c. access single element\n",
    "* d. access multiple elements\n",
    "* e. slice out a 2d array\n",
    "* f. on the previously sliced array apply the slicing again.\n"
   ]
  },
  {
   "cell_type": "code",
   "execution_count": 21,
   "id": "5a820aa0",
   "metadata": {},
   "outputs": [],
   "source": [
    "array2D=np.diag(range(1,7))\n",
    "                 "
   ]
  },
  {
   "cell_type": "code",
   "execution_count": 22,
   "id": "f4f35ab0",
   "metadata": {},
   "outputs": [
    {
     "data": {
      "text/plain": [
       "array([[1, 0, 0, 0, 0, 0],\n",
       "       [0, 2, 0, 0, 0, 0],\n",
       "       [0, 0, 3, 0, 0, 0],\n",
       "       [0, 0, 0, 4, 0, 0],\n",
       "       [0, 0, 0, 0, 5, 0],\n",
       "       [0, 0, 0, 0, 0, 6]])"
      ]
     },
     "execution_count": 22,
     "metadata": {},
     "output_type": "execute_result"
    }
   ],
   "source": [
    "array2D"
   ]
  },
  {
   "cell_type": "code",
   "execution_count": 23,
   "id": "a72e876f",
   "metadata": {},
   "outputs": [],
   "source": [
    "#access a single row"
   ]
  },
  {
   "cell_type": "code",
   "execution_count": 24,
   "id": "257bec4b",
   "metadata": {},
   "outputs": [
    {
     "data": {
      "text/plain": [
       "array([1, 0, 0, 0, 0, 0])"
      ]
     },
     "execution_count": 24,
     "metadata": {},
     "output_type": "execute_result"
    }
   ],
   "source": [
    "array2D[0]"
   ]
  },
  {
   "cell_type": "code",
   "execution_count": 25,
   "id": "a07c552b",
   "metadata": {},
   "outputs": [
    {
     "data": {
      "text/plain": [
       "array([0, 2, 0, 0, 0, 0])"
      ]
     },
     "execution_count": 25,
     "metadata": {},
     "output_type": "execute_result"
    }
   ],
   "source": [
    "array2D[1]"
   ]
  },
  {
   "cell_type": "code",
   "execution_count": 26,
   "id": "0fb42cb3",
   "metadata": {},
   "outputs": [],
   "source": [
    "#access multiple rows"
   ]
  },
  {
   "cell_type": "code",
   "execution_count": 28,
   "id": "03fb19de",
   "metadata": {},
   "outputs": [
    {
     "data": {
      "text/plain": [
       "array([[1, 0, 0, 0, 0, 0],\n",
       "       [0, 2, 0, 0, 0, 0],\n",
       "       [0, 0, 3, 0, 0, 0]])"
      ]
     },
     "execution_count": 28,
     "metadata": {},
     "output_type": "execute_result"
    }
   ],
   "source": [
    "array2D[[0,1,2]]"
   ]
  },
  {
   "cell_type": "code",
   "execution_count": 29,
   "id": "4d88ff9a",
   "metadata": {},
   "outputs": [],
   "source": [
    "#access a single element"
   ]
  },
  {
   "cell_type": "code",
   "execution_count": 31,
   "id": "e37c08f4",
   "metadata": {},
   "outputs": [
    {
     "data": {
      "text/plain": [
       "1"
      ]
     },
     "execution_count": 31,
     "metadata": {},
     "output_type": "execute_result"
    }
   ],
   "source": [
    "array2D[0,0]"
   ]
  },
  {
   "cell_type": "code",
   "execution_count": 32,
   "id": "ead2c8ef",
   "metadata": {},
   "outputs": [
    {
     "data": {
      "text/plain": [
       "2"
      ]
     },
     "execution_count": 32,
     "metadata": {},
     "output_type": "execute_result"
    }
   ],
   "source": [
    "array2D[1,1]"
   ]
  },
  {
   "cell_type": "code",
   "execution_count": 40,
   "id": "a59bfecb",
   "metadata": {},
   "outputs": [
    {
     "data": {
      "text/plain": [
       "4"
      ]
     },
     "execution_count": 40,
     "metadata": {},
     "output_type": "execute_result"
    }
   ],
   "source": [
    "array2D[3,3]"
   ]
  },
  {
   "cell_type": "code",
   "execution_count": 41,
   "id": "a6daaae0",
   "metadata": {},
   "outputs": [],
   "source": [
    "#acess a multiple element"
   ]
  },
  {
   "cell_type": "code",
   "execution_count": 48,
   "id": "5bcdb87a",
   "metadata": {},
   "outputs": [
    {
     "data": {
      "text/plain": [
       "array([4, 5, 6])"
      ]
     },
     "execution_count": 48,
     "metadata": {},
     "output_type": "execute_result"
    }
   ],
   "source": [
    "array2D[[3,4,5],[3,4,5]]"
   ]
  },
  {
   "cell_type": "code",
   "execution_count": 49,
   "id": "ee2fb89c",
   "metadata": {},
   "outputs": [],
   "source": [
    "#slice out a 2D array"
   ]
  },
  {
   "cell_type": "code",
   "execution_count": 50,
   "id": "a5a81098",
   "metadata": {},
   "outputs": [
    {
     "data": {
      "text/plain": [
       "array([[0, 2, 0, 0, 0, 0],\n",
       "       [0, 0, 3, 0, 0, 0],\n",
       "       [0, 0, 0, 4, 0, 0],\n",
       "       [0, 0, 0, 0, 5, 0]])"
      ]
     },
     "execution_count": 50,
     "metadata": {},
     "output_type": "execute_result"
    }
   ],
   "source": [
    "array2D[1:5]"
   ]
  },
  {
   "cell_type": "code",
   "execution_count": 51,
   "id": "2196b66a",
   "metadata": {},
   "outputs": [],
   "source": [
    " #on the previously sliced array apply the slicing again."
   ]
  },
  {
   "cell_type": "code",
   "execution_count": 52,
   "id": "6792bf94",
   "metadata": {},
   "outputs": [
    {
     "data": {
      "text/plain": [
       "array([[0, 0, 0, 4, 0, 0],\n",
       "       [0, 0, 0, 0, 5, 0]])"
      ]
     },
     "execution_count": 52,
     "metadata": {},
     "output_type": "execute_result"
    }
   ],
   "source": [
    "array2D[1:5][2:4]"
   ]
  },
  {
   "cell_type": "markdown",
   "id": "6325277c",
   "metadata": {},
   "source": [
    "#### construct a 3d array of shape (4,3,5)\n",
    "\n",
    "* a. access single 2d array\n",
    "* b. access multiple 2d arrays\n",
    "* c. access single row\n",
    "* d. access multiple rows\n",
    "* e. access single element\n",
    "* f. access multiple elements\n",
    "* g. using this syntax arr[: ,: ,:] -- fetch the elements\n",
    "* h. slice out a 3d array, after slicing this reverse the 2d arrays using arr[][] -- this syntax"
   ]
  },
  {
   "cell_type": "code",
   "execution_count": 73,
   "id": "26362290",
   "metadata": {},
   "outputs": [],
   "source": [
    "array3D=np.arange(60).reshape(4,3,5)"
   ]
  },
  {
   "cell_type": "code",
   "execution_count": 74,
   "id": "745bbc7a",
   "metadata": {},
   "outputs": [
    {
     "data": {
      "text/plain": [
       "array([[[ 0,  1,  2,  3,  4],\n",
       "        [ 5,  6,  7,  8,  9],\n",
       "        [10, 11, 12, 13, 14]],\n",
       "\n",
       "       [[15, 16, 17, 18, 19],\n",
       "        [20, 21, 22, 23, 24],\n",
       "        [25, 26, 27, 28, 29]],\n",
       "\n",
       "       [[30, 31, 32, 33, 34],\n",
       "        [35, 36, 37, 38, 39],\n",
       "        [40, 41, 42, 43, 44]],\n",
       "\n",
       "       [[45, 46, 47, 48, 49],\n",
       "        [50, 51, 52, 53, 54],\n",
       "        [55, 56, 57, 58, 59]]])"
      ]
     },
     "execution_count": 74,
     "metadata": {},
     "output_type": "execute_result"
    }
   ],
   "source": [
    "array3D"
   ]
  },
  {
   "cell_type": "code",
   "execution_count": 55,
   "id": "2e57ee89",
   "metadata": {},
   "outputs": [],
   "source": [
    "#access single 2d array"
   ]
  },
  {
   "cell_type": "code",
   "execution_count": 56,
   "id": "1a906c5e",
   "metadata": {},
   "outputs": [
    {
     "data": {
      "text/plain": [
       "array([[ 0,  1,  2,  3,  4],\n",
       "       [ 5,  6,  7,  8,  9],\n",
       "       [10, 11, 12, 13, 14]])"
      ]
     },
     "execution_count": 56,
     "metadata": {},
     "output_type": "execute_result"
    }
   ],
   "source": [
    "array3D[0]"
   ]
  },
  {
   "cell_type": "code",
   "execution_count": 57,
   "id": "f15786c2",
   "metadata": {},
   "outputs": [
    {
     "data": {
      "text/plain": [
       "array([[15, 16, 17, 18, 19],\n",
       "       [20, 21, 22, 23, 24],\n",
       "       [25, 26, 27, 28, 29]])"
      ]
     },
     "execution_count": 57,
     "metadata": {},
     "output_type": "execute_result"
    }
   ],
   "source": [
    "array3D[1]"
   ]
  },
  {
   "cell_type": "code",
   "execution_count": 58,
   "id": "8283e505",
   "metadata": {},
   "outputs": [],
   "source": [
    "#access multiple 2d arrays"
   ]
  },
  {
   "cell_type": "code",
   "execution_count": 77,
   "id": "9ba49d2b",
   "metadata": {},
   "outputs": [
    {
     "data": {
      "text/plain": [
       "array([[[ 0,  1,  2,  3,  4],\n",
       "        [ 5,  6,  7,  8,  9],\n",
       "        [10, 11, 12, 13, 14]],\n",
       "\n",
       "       [[15, 16, 17, 18, 19],\n",
       "        [20, 21, 22, 23, 24],\n",
       "        [25, 26, 27, 28, 29]]])"
      ]
     },
     "execution_count": 77,
     "metadata": {},
     "output_type": "execute_result"
    }
   ],
   "source": [
    "array3D[[0,1]]"
   ]
  },
  {
   "cell_type": "code",
   "execution_count": 70,
   "id": "123018a3",
   "metadata": {},
   "outputs": [],
   "source": [
    "#access single row"
   ]
  },
  {
   "cell_type": "code",
   "execution_count": 76,
   "id": "5ecff389",
   "metadata": {},
   "outputs": [
    {
     "data": {
      "text/plain": [
       "array([5, 6, 7, 8, 9])"
      ]
     },
     "execution_count": 76,
     "metadata": {},
     "output_type": "execute_result"
    }
   ],
   "source": [
    "array3D[0,1]"
   ]
  },
  {
   "cell_type": "code",
   "execution_count": 78,
   "id": "3e28f80a",
   "metadata": {},
   "outputs": [],
   "source": [
    "#accessing multiple row"
   ]
  },
  {
   "cell_type": "code",
   "execution_count": 83,
   "id": "72f7b359",
   "metadata": {},
   "outputs": [
    {
     "data": {
      "text/plain": [
       "array([[ 5,  6,  7,  8,  9],\n",
       "       [20, 21, 22, 23, 24]])"
      ]
     },
     "execution_count": 83,
     "metadata": {},
     "output_type": "execute_result"
    }
   ],
   "source": [
    "array3D[[0,1],[1,1]]"
   ]
  },
  {
   "cell_type": "code",
   "execution_count": 84,
   "id": "7797af5f",
   "metadata": {},
   "outputs": [],
   "source": [
    "#accessing single element"
   ]
  },
  {
   "cell_type": "code",
   "execution_count": 85,
   "id": "b9426d0b",
   "metadata": {},
   "outputs": [
    {
     "data": {
      "text/plain": [
       "28"
      ]
     },
     "execution_count": 85,
     "metadata": {},
     "output_type": "execute_result"
    }
   ],
   "source": [
    "array3D[1,2,3]"
   ]
  },
  {
   "cell_type": "code",
   "execution_count": 87,
   "id": "e0d58269",
   "metadata": {},
   "outputs": [],
   "source": [
    "#accessing multiple element"
   ]
  },
  {
   "cell_type": "code",
   "execution_count": 89,
   "id": "c76ddcc2",
   "metadata": {},
   "outputs": [
    {
     "data": {
      "text/plain": [
       "array([[[ 0,  1,  2,  3,  4],\n",
       "        [ 5,  6,  7,  8,  9],\n",
       "        [10, 11, 12, 13, 14]],\n",
       "\n",
       "       [[15, 16, 17, 18, 19],\n",
       "        [20, 21, 22, 23, 24],\n",
       "        [25, 26, 27, 28, 29]],\n",
       "\n",
       "       [[30, 31, 32, 33, 34],\n",
       "        [35, 36, 37, 38, 39],\n",
       "        [40, 41, 42, 43, 44]],\n",
       "\n",
       "       [[45, 46, 47, 48, 49],\n",
       "        [50, 51, 52, 53, 54],\n",
       "        [55, 56, 57, 58, 59]]])"
      ]
     },
     "execution_count": 89,
     "metadata": {},
     "output_type": "execute_result"
    }
   ],
   "source": [
    "array3D"
   ]
  },
  {
   "cell_type": "code",
   "execution_count": 92,
   "id": "7787c2cf",
   "metadata": {},
   "outputs": [
    {
     "data": {
      "text/plain": [
       "array([21, 42, 58])"
      ]
     },
     "execution_count": 92,
     "metadata": {},
     "output_type": "execute_result"
    }
   ],
   "source": [
    "array3D[[1,2,3],[1,2,2],[1,2,3]]"
   ]
  },
  {
   "cell_type": "code",
   "execution_count": 93,
   "id": "95d0861e",
   "metadata": {},
   "outputs": [],
   "source": [
    "#. using this syntax arr[: ,: ,:] -- fetch the elements"
   ]
  },
  {
   "cell_type": "code",
   "execution_count": 98,
   "id": "6ab3331a",
   "metadata": {},
   "outputs": [
    {
     "data": {
      "text/plain": [
       "array([[[26]]])"
      ]
     },
     "execution_count": 98,
     "metadata": {},
     "output_type": "execute_result"
    }
   ],
   "source": [
    "array3D[1:2,2:3,1:2]"
   ]
  },
  {
   "cell_type": "code",
   "execution_count": null,
   "id": "fb02cd69",
   "metadata": {},
   "outputs": [],
   "source": []
  }
 ],
 "metadata": {
  "kernelspec": {
   "display_name": "Python 3 (ipykernel)",
   "language": "python",
   "name": "python3"
  },
  "language_info": {
   "codemirror_mode": {
    "name": "ipython",
    "version": 3
   },
   "file_extension": ".py",
   "mimetype": "text/x-python",
   "name": "python",
   "nbconvert_exporter": "python",
   "pygments_lexer": "ipython3",
   "version": "3.11.4"
  }
 },
 "nbformat": 4,
 "nbformat_minor": 5
}
